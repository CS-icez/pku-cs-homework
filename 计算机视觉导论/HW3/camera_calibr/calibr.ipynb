{
 "cells": [
  {
   "cell_type": "code",
   "execution_count": null,
   "metadata": {},
   "outputs": [],
   "source": [
    "import numpy as np\n",
    "import cv2\n",
    "from matplotlib import pyplot as plt"
   ]
  },
  {
   "cell_type": "code",
   "execution_count": null,
   "metadata": {},
   "outputs": [],
   "source": [
    "front_2Dcoord = np.load('front_image.npy', allow_pickle=True)\n",
    "back_2Dcoord = np.load('back_image.npy', allow_pickle=True)\n",
    "front_img = cv2.imread('front.png')"
   ]
  },
  {
   "cell_type": "code",
   "execution_count": null,
   "metadata": {},
   "outputs": [],
   "source": [
    "#visualization\n",
    "print(front_2Dcoord.shape, back_2Dcoord.shape)\n",
    "from copy import deepcopy\n",
    "vis_img = deepcopy(front_img)\n",
    "for i in range(front_2Dcoord.shape[0]):\n",
    "    cv2.circle(vis_img, (int(front_2Dcoord[i,0]), int(front_2Dcoord[i,1])), 2, (255,0,0), 2)\n",
    "plt.imshow(vis_img[:,:,::-1])\n",
    "plt.show()"
   ]
  },
  {
   "cell_type": "code",
   "execution_count": null,
   "metadata": {},
   "outputs": [],
   "source": [
    "# ------------TODO----------------\n",
    "# Compute corresponding 3D coordinate\n",
    "t = np.array([[0, 0, 0], [50, 0, 0], [50, 50, 0], [0, 50, 0]])\n",
    "u = t + np.array([160, 240, 0])\n",
    "v = t + np.array([400, 400, 0])\n",
    "front_3Dcoord = np.vstack((t, u, v)).astype(np.float64)\n",
    "back_3Dcoord = front_3Dcoord + np.array([0, 0, 150])\n",
    "# ------------TODO----------------\n",
    "\n",
    "all_2Dcoord = np.concatenate((front_2Dcoord, back_2Dcoord), axis=0)\n",
    "all_3Dcoord = np.concatenate((front_3Dcoord, back_3Dcoord), axis=0)\n",
    "print(all_2Dcoord.shape, all_3Dcoord.shape)"
   ]
  },
  {
   "cell_type": "code",
   "execution_count": null,
   "metadata": {},
   "outputs": [],
   "source": [
    "# ------------TODO----------------\n",
    "# Construct the Equation Pm=0 and solve m\n",
    "def f(p, u, v):\n",
    "    p = np.hstack((p, 1))\n",
    "    z = np.zeros((4,))\n",
    "    l0 = np.hstack((p.T, z, -u * p.T))\n",
    "    l1 = np.hstack((z, p.T, -v * p.T))\n",
    "    return np.vstack((l0, l1))\n",
    "g = lambda x: f(x[:3], x[3], x[4])\n",
    "n = all_2Dcoord.shape[0]\n",
    "P = np.hstack((all_3Dcoord, all_2Dcoord))\n",
    "P = np.apply_along_axis(g, 1, P).reshape(2 * n, -1)\n",
    "U, S, Vt = np.linalg.svd(P)\n",
    "m = Vt[-1]\n",
    "# ------------TODO----------------"
   ]
  },
  {
   "cell_type": "code",
   "execution_count": null,
   "metadata": {},
   "outputs": [],
   "source": [
    "# ------------TODO----------------\n",
    "# Solve K, and [R T] from m\n",
    "M = m.reshape(3, 4)\n",
    "A = M[:, :3]\n",
    "b = M[:, 3]\n",
    "a1, a2, a3 = map(lambda x: x.reshape(-1), np.vsplit(A, 3))\n",
    "\n",
    "rho_sq = 1 / np.dot(a3, a3) # How to decide the sign?\n",
    "cx = rho_sq * np.dot(a1, a3)\n",
    "cy = rho_sq * np.dot(a2, a3)\n",
    "t1 = np.cross(a2, a3)\n",
    "t2 = np.cross(a3, a1)\n",
    "t1_norm = np.linalg.norm(t1)\n",
    "t2_norm = np.linalg.norm(t2)\n",
    "cos_theta = np.dot(t1, t2) / (t1_norm * t2_norm)\n",
    "sin_theta = np.sqrt(1 - cos_theta ** 2)\n",
    "cot_theta = cos_theta / sin_theta\n",
    "\n",
    "alpha = rho_sq * t2_norm * sin_theta\n",
    "beta = rho_sq * t1_norm * sin_theta\n",
    "\n",
    "r1 = t1 / t1_norm\n",
    "r3 = a3 / np.linalg.norm(a3)\n",
    "r2 = np.cross(r3, r1)\n",
    "\n",
    "K = np.array([\n",
    "    [alpha, -alpha * cot_theta, cx],\n",
    "    [0, beta / sin_theta, cy],\n",
    "    [0, 0, 1]\n",
    "])\n",
    "R = np.vstack((r1, r2, r3))\n",
    "T = np.sqrt(rho_sq) * np.linalg.inv(K) @ b\n",
    "# ------------TODO----------------"
   ]
  },
  {
   "cell_type": "code",
   "execution_count": null,
   "metadata": {},
   "outputs": [],
   "source": [
    "# save results\n",
    "save_dict = {'3Dcoord': all_3Dcoord, 'P':P, 'm':m, 'K':K, 'R':R, 'T':T}\n",
    "np.save('../results/calibr', save_dict)\n",
    "\n",
    "# The reference answer of T should be [383001.8386981  -67357.81794783  67071.11338303]\n",
    "# The results are very strange because the data is fake."
   ]
  }
 ],
 "metadata": {
  "kernelspec": {
   "display_name": "Python 3",
   "language": "python",
   "name": "python3"
  },
  "language_info": {
   "codemirror_mode": {
    "name": "ipython",
    "version": 3
   },
   "file_extension": ".py",
   "mimetype": "text/x-python",
   "name": "python",
   "nbconvert_exporter": "python",
   "pygments_lexer": "ipython3",
   "version": "3.10.12"
  },
  "orig_nbformat": 4
 },
 "nbformat": 4,
 "nbformat_minor": 2
}
