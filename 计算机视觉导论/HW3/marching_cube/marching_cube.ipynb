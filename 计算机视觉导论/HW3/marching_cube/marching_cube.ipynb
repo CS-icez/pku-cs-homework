{
 "cells": [
  {
   "cell_type": "code",
   "execution_count": null,
   "metadata": {},
   "outputs": [],
   "source": [
    "import numpy as np\n",
    "from lookup_table import CaseNum2EdgeOffset, getCaseNum\n",
    "import trimesh\n",
    "import os\n",
    "import time"
   ]
  },
  {
   "cell_type": "code",
   "execution_count": null,
   "metadata": {},
   "outputs": [],
   "source": [
    "def marching_cube(thres,cells):\n",
    "    # vertices use dictionary to avoid duplicate axes\n",
    "    vertex_array = {}\n",
    "    face_array = []\n",
    "    t1 = time.time()\n",
    "    # -------------------TODO------------------ \n",
    "    # compute vertices and faces\n",
    "    # vertices: [N, 3]\n",
    "    # faces: [M, 3], e.g. np.array([[0,1,2]]) means a triangle composed of vertices[0], vertices[1] and vertices[2]\n",
    "    # for-loop is allowed to reduce difficulty\n",
    "    for i in range(cells.shape[0] - 1):\n",
    "        for j in range(cells.shape[1] - 1):\n",
    "            for k in range(cells.shape[2] - 1):\n",
    "                case_nums = getCaseNum(i, j, k, thres, cells)\n",
    "                for l in range(0, len(case_nums) - 1, 3):\n",
    "                    if case_nums[l] == -1:\n",
    "                        break\n",
    "                    triangle = case_nums[l:l+3]\n",
    "                    \n",
    "                    def f(edge):\n",
    "                        edge = CaseNum2EdgeOffset[edge]\n",
    "                        p0 = np.array(edge[:3])\n",
    "                        p1 = np.array(edge[3:])\n",
    "                        v0 = cells[i + p0[0], j + p0[1], k + p0[2]]\n",
    "                        v1 = cells[i + p1[0], j + p1[1], k + p1[2]]\n",
    "                        p = np.array([i, j, k]) + p0 + (thres - v0) / (v1 - v0) * (p1 - p0)\n",
    "                        return tuple(np.round(p, 6))\n",
    "                    \n",
    "                    vertices = list(map(f, triangle))\n",
    "                    for v in vertices:\n",
    "                        vertex_array.setdefault(v, len(vertex_array))\n",
    "                    face_array.append([vertex_array[v] for v in vertices])\n",
    "    # -------------------TODO------------------ \n",
    "    t2 = time.time()\n",
    "    print(\"\\nTime taken by algorithm\\n\"+'-'*40+\"\\n{} s\".format(t2-t1))\n",
    "    vertex_array = list(vertex_array.keys())\n",
    "    return np.array(vertex_array), np.array(face_array)"
   ]
  },
  {
   "cell_type": "code",
   "execution_count": null,
   "metadata": {},
   "outputs": [],
   "source": [
    "# reconstruct these two animals\n",
    "shape_name_lst = ['spot', 'bob']\n",
    "for shape_name in shape_name_lst:\n",
    "    data = np.load(os.path.join('data', shape_name + '_cell.npy'))\n",
    "    verts, faces = marching_cube(0, data)\n",
    "    print(verts.shape, faces.shape)\n",
    "    mesh = trimesh.Trimesh(vertices=verts, faces=faces)\n",
    "    mesh_txt = trimesh.exchange.obj.export_obj(mesh)\n",
    "    with open(os.path.join('../results', shape_name + '.obj'),\"w\") as fp:\n",
    "        fp.write(mesh_txt)"
   ]
  }
 ],
 "metadata": {
  "kernelspec": {
   "display_name": "Python 3",
   "language": "python",
   "name": "python3"
  },
  "language_info": {
   "codemirror_mode": {
    "name": "ipython",
    "version": 3
   },
   "file_extension": ".py",
   "mimetype": "text/x-python",
   "name": "python",
   "nbconvert_exporter": "python",
   "pygments_lexer": "ipython3",
   "version": "3.10.12"
  },
  "orig_nbformat": 4
 },
 "nbformat": 4,
 "nbformat_minor": 2
}
